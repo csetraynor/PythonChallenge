{
  "cells": [
    {
      "metadata": {
        "_uuid": "bab92ac0aaa7089c1e9719b80666aeec5a259f71",
        "_cell_guid": "d67023a7-17cb-4ba6-8756-db2978790d7f"
      },
      "cell_type": "markdown",
      "source": "# Day 3 (t.test)  "
    },
    {
      "metadata": {
        "_uuid": "fa40a0ecb98ffd834287dbc32440d55255282297",
        "_cell_guid": "dc2deac4-d3bc-492b-b4dd-d1bcc2db9bf1"
      },
      "cell_type": "markdown",
      "source": "I don't think I can run T-test on the data I started with [(univeristies) from the first two days](https://www.kaggle.com/poloniki/5-day-data-challenge-day-2), so I had to create new notebook.  \n\nThe task was to perform a T-test. So I had to choose two sets to compare and i choose to compare revenues of different museum types History and General Museums.\n\nWhen I first I looked at data there was no sign of trouble."
    },
    {
      "metadata": {
        "_uuid": "af5c55dc4e380df398ebc8c9a1d8a47f2f909cc3",
        "_cell_guid": "a76f9757-1f58-48bf-b44e-ed8dbf106daa",
        "trusted": false,
        "collapsed": true
      },
      "cell_type": "code",
      "source": "from scipy.stats import ttest_ind # just the t-test from scipy.stats\nfrom scipy.stats import probplot # for a qqplot\nimport seaborn as sns\nimport matplotlib.pyplot as plt\nimport numpy as np # linear algebra\nimport pandas as pd # data processing, CSV file I/O (e.g. pd.read_csv)\nimport math \ndata = pd.read_csv('../input/museums.csv')\ndata.describe()",
      "execution_count": null,
      "outputs": []
    },
    {
      "metadata": {
        "_uuid": "e8db8e8ca7920d65b0fde03963a1f69870e2a55d",
        "_cell_guid": "7385dd51-faaf-48d8-9887-08ae949f240d"
      },
      "cell_type": "markdown",
      "source": "At that moment it get a little confusing. Do museums make that much? So there is a museum which made $5,840,349,000? Maybe I don't know smth.\n\nNow I need to subset data for both types of museums."
    },
    {
      "metadata": {
        "_uuid": "20e39f8971da8cb44732dfc53b68b2a6fb723ec6",
        "_cell_guid": "e21f4689-d03d-4d6a-8466-533f72e9af21",
        "trusted": false,
        "collapsed": true
      },
      "cell_type": "code",
      "source": "histmuseum = data['Museum Type'] == 'HISTORY MUSEUM'\ngenmuseum = data['Museum Type'] == 'GENERAL MUSEUM'\n# hr = history museum revenue\nhr = data[histmuseum]['Revenue']\n# gr = general museum revenue\ngr = data[genmuseum]['Revenue']\n\nhr.head()",
      "execution_count": null,
      "outputs": []
    },
    {
      "metadata": {
        "_uuid": "9e295a478b7dc92fce3a03bdb2e569d133766e91",
        "_cell_guid": "4a8c0197-724e-489e-8c0e-c0258f9a43e7"
      },
      "cell_type": "markdown",
      "source": "It seems like we have some duplicate and missing values and I remember I saw that unit on DataCamp. So will go there to look for solutions."
    },
    {
      "metadata": {
        "_uuid": "c4468318944f07d151e73884552bf40f5c35f8b0",
        "_cell_guid": "96a0107c-68a3-4884-83d2-aff8f8671a55",
        "collapsed": true,
        "trusted": false
      },
      "cell_type": "code",
      "source": "# removing duplicates d=no dulicates\ndhr = hr.drop_duplicates()\ndgr = gr.drop_duplicates()\n# removing NAN values n=no NaN\nndhr = dhr.dropna()\nndgr = dgr.dropna()",
      "execution_count": null,
      "outputs": []
    },
    {
      "metadata": {
        "_uuid": "d48cd621af43604ed76fbd1519262f5e300c0144",
        "_cell_guid": "b0600126-9a3b-4311-adf2-b1fc7237a80c"
      },
      "cell_type": "markdown",
      "source": "Lets see the distribution on the histogramm."
    },
    {
      "metadata": {
        "_uuid": "c7739fcb7208438e96ebdf3719a343291fff9d46",
        "_cell_guid": "d00b0e5b-88ee-437b-941a-7f4755ba5cb2",
        "trusted": false,
        "collapsed": true
      },
      "cell_type": "code",
      "source": "fig = plt.figure(figsize=(10 , 4))\nhist = ndgr\n# Histogram\nplt.hist(hist, bins=10, color='grey', edgecolor='white')\n#Customizations\nplt.xlabel('')\nplt.ylabel('')\nplt.title('')\nplt.show()\nplt.clf()",
      "execution_count": null,
      "outputs": []
    },
    {
      "metadata": {
        "_uuid": "f9d3387d37296d41754466051abe5b84b3fe8e83",
        "_cell_guid": "23d3e428-8ff6-439a-a8c8-b589e2c8f185"
      },
      "cell_type": "markdown",
      "source": "That simply made no sense to me. So I tried to normalize it by Z-score."
    },
    {
      "metadata": {
        "_uuid": "3b49ca6ac010c89c8aa6338cf479cbe8cc090ae4",
        "_cell_guid": "b168fb2d-6885-436c-84fc-ecb9e4942c0c",
        "trusted": false,
        "collapsed": true
      },
      "cell_type": "code",
      "source": "z_score = (ndgr - ndgr.mean())/ndgr.std(ddof=0)\nhist = z_score\n# Histogram\nplt.hist(hist, bins=10, color='grey', edgecolor='white')\n#Customizations\nplt.xlabel('')\nplt.ylabel('')\nplt.title('')\n# Show and clear plot\nplt.show()\nplt.clf()\n",
      "execution_count": null,
      "outputs": []
    },
    {
      "metadata": {
        "_uuid": "a4fdaf7d2ab62da0a1b0cf760be6f6b897a230ac",
        "_cell_guid": "7157cd5d-e096-4d14-96e3-42f40e3d765a"
      },
      "cell_type": "markdown",
      "source": "Well, that made no difference and it makes sense why.  Data is hugely disperse (2.189466e+08). I will have to work on it later to figure out hot to deal with it.\n\n# Updated\n\nI did! =) With the help of  [h4pZ](https://www.kaggle.com/h4pzzz) I solved the problem. **h4pZ** suggested to apply .log on each series. "
    },
    {
      "metadata": {
        "_uuid": "97ffc17a5d60bbced62bfca7c530e046a537f14c",
        "_cell_guid": "b0ec08ed-875d-41cf-b8b3-cdec5d4549d6",
        "collapsed": true,
        "trusted": false
      },
      "cell_type": "code",
      "source": "# appling log to both series\nlogndhr = ndhr.apply(np.log)\nlogndgr = ndgr.apply(np.log)\n# getting rid of all the inf\nnoinfndhr = logndhr > 0\nnoinfndgr = logndgr > 0\n#finalized verison for both types\nfinHistory = logndhr[noinfndhr]\nfinGeneral = logndgr[noinfndgr]",
      "execution_count": null,
      "outputs": []
    },
    {
      "metadata": {
        "_uuid": "e0880a88e96d8c2046935102f995d2e1388eed60",
        "_cell_guid": "ad7575a9-dc73-4b7e-aebb-9cd3e5315086"
      },
      "cell_type": "markdown",
      "source": "Lets plot it and see what did we get."
    },
    {
      "metadata": {
        "_uuid": "82ab87ccf82d43b5dc9900ee9a742ee2cff006d9",
        "_cell_guid": "5b2b8419-9f93-4cf3-846d-b2631bc6efcb",
        "trusted": false,
        "collapsed": true
      },
      "cell_type": "code",
      "source": "plt.figure(figsize=(14 , 7))\nsns.distplot(finHistory)\nsns.distplot(finGeneral)",
      "execution_count": null,
      "outputs": []
    },
    {
      "metadata": {
        "_uuid": "82fbf5560bb1cde65cf081258b594b96e0a74cf0",
        "_cell_guid": "456a9f21-934c-44c7-8c78-9db73b43b098"
      },
      "cell_type": "markdown",
      "source": "Now that looks much better! Seems like two almost perfect normal distributions. Now we can get back to the task and perform a T-test. \nFirst I would like to see the QQ plot also."
    },
    {
      "metadata": {
        "_uuid": "42098807002d7789e5d7c20a469e7de82a9084b6",
        "_cell_guid": "bedb623e-9753-447a-9298-e7ed34da5ca2",
        "trusted": false,
        "collapsed": true
      },
      "cell_type": "code",
      "source": "probplot(finHistory, dist=\"norm\", plot=plt)\nprobplot(finGeneral, dist=\"norm\", plot=plt)\n",
      "execution_count": null,
      "outputs": []
    },
    {
      "metadata": {
        "_uuid": "51c394d94993bca2ea8addec9c0cd7b2e0331a8c",
        "_cell_guid": "5a46f0cf-5f86-4bff-b51b-6a2eaa4e62e6"
      },
      "cell_type": "markdown",
      "source": "Looks good. \nNow we need to define our hypotheses: \n* Our null hypothesis -  Hist sample have no significant difference with General sample\n* Alt hypothesis - they are different.\nalpa = 0.05"
    },
    {
      "metadata": {
        "_uuid": "81651debcf758052a43853f726b2ffff79c80fc0",
        "_cell_guid": "4cc9c59c-5ec8-499b-8e89-8702423f3dc1",
        "trusted": false,
        "collapsed": true
      },
      "cell_type": "code",
      "source": "ttest_ind(finHistory, finGeneral, equal_var=False)",
      "execution_count": null,
      "outputs": []
    },
    {
      "metadata": {
        "_uuid": "3a900e718a60982d60d7ea0199eae660fcdb7a10",
        "_cell_guid": "6323300d-7b01-410b-b95c-16e53440512b"
      },
      "cell_type": "markdown",
      "source": "So we got our P-value = almost 0 (**by the way when i was perfoming test without log - I got P-value=.7, which is bigger than our alpha of .5**).\n\nWhich means both samples are pretty much the same.\n\nAnd to prove that point again I will plot two hists stole them from [here](https://www.kaggle.com/h4pzzz/5-day-data-challenge-pokemon-dataset-days-1-4) =)\n\nPlots are not perfectly distributed, but I can say its pretty close."
    },
    {
      "metadata": {
        "_uuid": "d6bc48cad9215e3c97500de26dfdf65e1fa30289",
        "_cell_guid": "f93fce24-82f0-449b-9c5b-91de28b2a61b",
        "trusted": false,
        "collapsed": true
      },
      "cell_type": "code",
      "source": "fig, ax = plt.subplots(1, 2, figsize=(14, 6))\n\n# Plotting the first histogram.\nax[0].hist(finHistory, edgecolor=\"white\")\nax[0].axvline(finHistory.mean(), c=\"r\")  # Plotting the mean value.\nax[0].set_title(\"Revenue distribution of History Museum's\")\n\n# Plotting the second histogram.\nax[1].hist(finGeneral, edgecolor=\"white\")\nax[1].axvline(finGeneral.mean(), c=\"r\")  # Plotting the mean value.\nax[1].set_title(\"Revenue distribution of General Museum's\")",
      "execution_count": null,
      "outputs": []
    }
  ],
  "metadata": {
    "language_info": {
      "pygments_lexer": "ipython3",
      "nbconvert_exporter": "python",
      "file_extension": ".py",
      "mimetype": "text/x-python",
      "name": "python",
      "codemirror_mode": {
        "name": "ipython",
        "version": 3
      },
      "version": "3.6.3"
    },
    "kernelspec": {
      "display_name": "Python 3",
      "language": "python",
      "name": "python3"
    }
  },
  "nbformat": 4,
  "nbformat_minor": 1
}