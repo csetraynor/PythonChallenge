{
  "cells": [
    {
      "metadata": {
        "_uuid": "571ec7323e8ee1f94da27570ad16fef7dd074faf",
        "_cell_guid": "b09a389e-97e6-4164-b563-b13d63fcf60c"
      },
      "cell_type": "markdown",
      "source": "# The Day 1 of Data Challange (.describe)\nI will try to explain every step I make."
    },
    {
      "metadata": {
        "_kg_hide-input": false,
        "_uuid": "a5d766df6e3ba6b92d0482fffb04e1310fd830fb",
        "_cell_guid": "11d60c3c-4b10-4e45-8948-80d8026a2211",
        "trusted": false,
        "collapsed": true
      },
      "cell_type": "code",
      "source": "import numpy as np # linear algebra\nimport pandas as pd # data processing, CSV file I/O (e.g. pd.read_csv)\n\n# The task was to use .describe \ndata = pd.read_csv('../input/degrees-that-pay-back.csv')\n#Actual Task\ndata.describe()",
      "execution_count": null,
      "outputs": []
    },
    {
      "metadata": {
        "_uuid": "4735a3b890b58fffb0fe2eb4bdf91a00bee1fbc3",
        "_cell_guid": "931c6813-df70-4881-be8a-d79eaccd0ce7",
        "trusted": false,
        "collapsed": true
      },
      "cell_type": "code",
      "source": "data.head()",
      "execution_count": null,
      "outputs": []
    },
    {
      "metadata": {
        "_uuid": "c8ac06e99e42608d1213addf0dc0be10de877798",
        "_cell_guid": "84867836-6d69-4283-8f89-52437759e869",
        "collapsed": true
      },
      "cell_type": "markdown",
      "source": "There is clearly a problem. We can see that most columns are numeric and the fact that we didn't get statistics should be due to wrong format of other columns."
    },
    {
      "metadata": {
        "_uuid": "029fa340c089e5f77af7ec86db60c760274c252e",
        "_cell_guid": "e2bab48d-4c79-46da-bb81-822584a1ff0c",
        "trusted": false,
        "collapsed": true
      },
      "cell_type": "code",
      "source": "#Exploring Columns\nprint(data.info())",
      "execution_count": null,
      "outputs": []
    },
    {
      "metadata": {
        "_uuid": "3ad8119e5bd02f39774afc1510bb35142e53b7ed",
        "_cell_guid": "f2d35858-d0f7-41aa-bb05-db201536e5d4"
      },
      "cell_type": "markdown",
      "source": "Some numeric columns are not floats or integers. I should change their type for further analysis.\nAt first I tried:\n*data['Starting Median Salary'].astype('float')*\nAND  I run into trouble =) **ValueError: could not convert string to float:'$34,000.00'**. \n\nI should somewhow get rid of '$', ','  and  '.' . \n\nI went to DataCamp and found the right lesson. I used solution from there."
    },
    {
      "metadata": {
        "_uuid": "19d55fac8655a1fd34be94a51f48b169c1aa0cc2",
        "_cell_guid": "75a4c117-43f1-481c-9c51-6f3016385a08",
        "collapsed": true,
        "trusted": false
      },
      "cell_type": "code",
      "source": "import re\n#pattern = re.compile('\\$\\d{2}\\,\\d{3}\\.\\d{2}')\n#result = pattern.match('$10,000.00')\n#print(bool(result))",
      "execution_count": null,
      "outputs": []
    },
    {
      "metadata": {
        "_uuid": "c7bb3a55f44e78b757f04095f00298014edecac0",
        "_cell_guid": "5c81c3d2-33cf-4d86-905e-195e1322bc90"
      },
      "cell_type": "markdown",
      "source": "As you can see above my regular expression fits only  '40.000.00' but not '400.000.00' and not '4.000.00'. So I went to Plurasight and asked for Tutor help and Gaurav Singhal helped me to write correct expression for current data that would fit every number.' \nThanks to Gaurav =) "
    },
    {
      "metadata": {
        "_uuid": "23a1fe50725fdaef3d2bd1050bf4503e79d3d9e9",
        "_cell_guid": "938c7b99-0f4e-428d-bc3a-dfe2e3b4a056",
        "trusted": false,
        "collapsed": true
      },
      "cell_type": "code",
      "source": "pattern = re.compile(r'\\$\\d{1,5}[\\.\\,]\\d{2,5}\\.\\d{2}|\\d{2,3}\\.\\d{1,2}')\nresult = pattern.match('$400,000.00')\nprint(bool(result))",
      "execution_count": null,
      "outputs": []
    },
    {
      "metadata": {
        "_uuid": "c2341a4173d2131dde748a6466ca313ab79cbfb0",
        "_cell_guid": "f47f3a29-e629-4bb6-907d-7ace3f53dc5a"
      },
      "cell_type": "markdown",
      "source": "Now we need to define a function and add the right column. Again I used solution from DataCamp."
    },
    {
      "metadata": {
        "_uuid": "e7e441a2c7d731ecb1183fb6cebccf3a86ff7de7",
        "_cell_guid": "f1742014-0a5d-40a6-bfa4-4823c5eaabb3",
        "collapsed": true,
        "trusted": false
      },
      "cell_type": "code",
      "source": "def dollar(row, pattern):\n    sms = row['Mid-Career Median Salary']\n    \n    if bool(pattern.match(sms)):\n            sms = sms.replace('$', '')\n            sms = sms.replace('.00', '')\n            sms = sms.replace(',', '')\n            sms = int(sms)\n            \n    return sms\ndata['Mid Median'] = data.apply(dollar, axis=1, pattern=pattern)\n",
      "execution_count": null,
      "outputs": []
    },
    {
      "metadata": {
        "_uuid": "5c588b5a64d3220db617ec1696d7a3430cefb4de",
        "_cell_guid": "234d85e2-0dfe-4512-b192-7df8150f5e11"
      },
      "cell_type": "markdown",
      "source": "I guess I made it the strange way with all of thoose 'replace', but it worked. \n\n# However, what I didn't yet make to work is to apply this fuction to all the columns at a time and then result it in a new dataset. Can someone help with that?\n"
    },
    {
      "metadata": {
        "_uuid": "6729fd6e6ba8cac4ef8a04eda45946307846cb5e",
        "_cell_guid": "a5c51d28-4400-4558-b53c-d98b59c9d880",
        "trusted": false,
        "collapsed": true
      },
      "cell_type": "code",
      "source": "data.info()",
      "execution_count": null,
      "outputs": []
    },
    {
      "metadata": {
        "_uuid": "0c3676b4714fa501ded819d99abbef386242da58",
        "_cell_guid": "bbe2f23a-bbd2-4018-8199-aa0a90e23e21"
      },
      "cell_type": "markdown",
      "source": "# The Day 2 of Data Challange ( hist())"
    },
    {
      "metadata": {
        "_uuid": "38ef32b41aff69f122e3bef57efffc8bbc0698b2",
        "_cell_guid": "2779a2c6-81a1-494e-bf05-782fafe98beb"
      },
      "cell_type": "markdown",
      "source": "Our second day task is to plot a histogramm. I have at least one numeric column which I made with my last function. So that should not be a problem.\n\nThanks to **h4pZ** from Twitch for edgecolors and helping with the size of hist  =)"
    },
    {
      "metadata": {
        "_uuid": "645225d66440de8831d64b1e2eab73b534119b29",
        "_cell_guid": "490f60e6-a239-4c2b-9ad2-0a654095e3d2",
        "trusted": false,
        "collapsed": true
      },
      "cell_type": "code",
      "source": "%matplotlib inline \nimport matplotlib.pyplot as plt\nfig = plt.figure(figsize=(15 , 8))\nhist = data['Percent change from Starting to Mid-Career Salary']\n\n# Histogram\nplt.hist(hist, bins=7, color='grey', edgecolor='white')\n#Customizations\nplt.xlabel('Salaries % change distribution')\nplt.ylabel('Most frequent %')\nplt.title('Salaries increase [in %] from Starting to Mid-Carreer')\nplt.xticks([20,30,40,50,60,70,80,90,100], ['20%','30%','40%','50%', '60%', '70%','80%','90%','100%'])\nplt.axvspan(51, 87, color='green', alpha=0.4)\nplt.axvspan(69, 69.274000, color='red', alpha=1)\n\n\n# Show and clear plot\nplt.show()\nplt.clf()",
      "execution_count": null,
      "outputs": []
    },
    {
      "metadata": {
        "_uuid": "d8ca8ccaab5da3244a6f4393367b469eac02c79a",
        "_cell_guid": "15fa1924-1471-4afd-8b64-a9291f2e8bd4"
      },
      "cell_type": "markdown",
      "source": "Not the best histogramm but still now we know that 60 to 70 percent change in salaries is the most frequent. Which is a little surprising =)\n\n**Green zone is data within standart deviation from the mean.** + redline is the mean. That trick i got from [here](https://stackoverflow.com/questions/8270981/in-a-matplotlib-plot-can-i-highlight-specific-x-value-ranges) ."
    },
    {
      "metadata": {
        "_uuid": "ec4d92f74501146af83d27b6ff781858ff30efab",
        "_cell_guid": "9589e2f2-38f4-4991-a946-b449d55044f7"
      },
      "cell_type": "markdown",
      "source": "**Would be glad answer to any questions**"
    },
    {
      "metadata": {
        "_uuid": "73beb9898bd0a224bcf453e28b92921a2e6bb084",
        "_cell_guid": "dddfd58a-4921-4771-b0ff-14453b409b44"
      },
      "cell_type": "markdown",
      "source": "My day 3 kernel is [ here](https://www.kaggle.com/poloniki/5-day-data-challenge-day-3-failed/). \n"
    }
  ],
  "metadata": {
    "language_info": {
      "codemirror_mode": {
        "version": 3,
        "name": "ipython"
      },
      "name": "python",
      "nbconvert_exporter": "python",
      "pygments_lexer": "ipython3",
      "mimetype": "text/x-python",
      "version": "3.6.3",
      "file_extension": ".py"
    },
    "kernelspec": {
      "display_name": "Python 3",
      "language": "python",
      "name": "python3"
    }
  },
  "nbformat": 4,
  "nbformat_minor": 1
}